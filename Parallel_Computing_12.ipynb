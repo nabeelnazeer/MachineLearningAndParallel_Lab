{
  "nbformat": 4,
  "nbformat_minor": 0,
  "metadata": {
    "colab": {
      "provenance": [],
      "authorship_tag": "ABX9TyMh2/f/fc1H4dy7LLONvOhb",
      "include_colab_link": true
    },
    "kernelspec": {
      "name": "python3",
      "display_name": "Python 3"
    },
    "language_info": {
      "name": "python"
    }
  },
  "cells": [
    {
      "cell_type": "markdown",
      "metadata": {
        "id": "view-in-github",
        "colab_type": "text"
      },
      "source": [
        "<a href=\"https://colab.research.google.com/github/Salmaan-Faaris/Parallel_Computing/blob/main/Parallel_Computing_12.ipynb\" target=\"_parent\"><img src=\"https://colab.research.google.com/assets/colab-badge.svg\" alt=\"Open In Colab\"/></a>"
      ]
    },
    {
      "cell_type": "code",
      "execution_count": 1,
      "metadata": {
        "colab": {
          "base_uri": "https://localhost:8080/"
        },
        "id": "U24VT9cyYYw7",
        "outputId": "36c9ce3c-20f8-4177-d8f4-798065b97443"
      },
      "outputs": [
        {
          "output_type": "stream",
          "name": "stdout",
          "text": [
            "K-means Centroids:\n",
            " [[-2.63323268  9.04356978]\n",
            " [-6.88387179 -6.98398415]\n",
            " [ 4.74710337  2.01059427]]\n",
            "K-medoids Medoids:\n",
            " [[-1.68665271  7.79344248]\n",
            " [-7.33898809 -7.72995396]\n",
            " [ 4.42219763  3.07194654]]\n",
            "Fuzzy C-means Centroids:\n",
            " [[-2.63468297  9.04171187]\n",
            " [-6.89083823 -6.99495237]\n",
            " [ 4.7557504   2.00113144]]\n"
          ]
        }
      ],
      "source": [
        "import numpy as np\n",
        "from sklearn.metrics import pairwise_distances_argmin\n",
        "from scipy.spatial.distance import cdist\n",
        "\n",
        "def k_means(data, k, max_iter=100):\n",
        "    np.random.seed(42)\n",
        "    centroids = data[np.random.choice(range(len(data)), k, replace=False)]\n",
        "\n",
        "    for _ in range(max_iter):\n",
        "        labels = pairwise_distances_argmin(data, centroids)\n",
        "        new_centroids = np.array([data[labels == i].mean(axis=0) for i in range(k)])\n",
        "\n",
        "        if np.all(centroids == new_centroids):\n",
        "            break\n",
        "        centroids = new_centroids\n",
        "\n",
        "    return labels, centroids\n",
        "\n",
        "def k_medoids(data, k, max_iter=100):\n",
        "    np.random.seed(42)\n",
        "    medoids = data[np.random.choice(range(len(data)), k, replace=False)]\n",
        "\n",
        "    for _ in range(max_iter):\n",
        "        distances = cdist(data, medoids, metric='euclidean')\n",
        "        labels = np.argmin(distances, axis=1)\n",
        "        new_medoids = np.array([data[labels == i][np.argmin(cdist([medoids[i]], data[labels == i], metric='euclidean').sum(axis=1))] for i in range(k)])\n",
        "\n",
        "        if np.all(medoids == new_medoids):\n",
        "            break\n",
        "        medoids = new_medoids\n",
        "\n",
        "    return labels, medoids\n",
        "\n",
        "def fuzzy_c_means(data, k, m=2, max_iter=100, epsilon=1e-5):\n",
        "    np.random.seed(42)\n",
        "    n_samples, n_features = data.shape\n",
        "    u = np.random.rand(n_samples, k)\n",
        "    u = u / np.sum(u, axis=1, keepdims=True)\n",
        "\n",
        "    for _ in range(max_iter):\n",
        "        centroids = np.dot(u.T ** m, data) / np.sum(u.T ** m, axis=1, keepdims=True)\n",
        "        distances = cdist(data, centroids, metric='euclidean')\n",
        "        new_u = 1 / (distances ** (2 / (m - 1)) + 1e-10)\n",
        "        new_u = new_u / np.sum(new_u, axis=1, keepdims=True)\n",
        "\n",
        "        if np.linalg.norm(new_u - u) < epsilon:\n",
        "            break\n",
        "        u = new_u\n",
        "\n",
        "    return u, centroids\n",
        "\n",
        "# Example usage:\n",
        "if __name__ == \"__main__\":\n",
        "    from sklearn.datasets import make_blobs\n",
        "\n",
        "    # Generate synthetic dataset\n",
        "    data, _ = make_blobs(n_samples=300, centers=3, cluster_std=1.0, random_state=42)\n",
        "\n",
        "    # K-means\n",
        "    kmeans_labels, kmeans_centroids = k_means(data, k=3)\n",
        "    print(\"K-means Centroids:\\n\", kmeans_centroids)\n",
        "\n",
        "    # K-medoids\n",
        "    kmedoids_labels, kmedoids_medoids = k_medoids(data, k=3)\n",
        "    print(\"K-medoids Medoids:\\n\", kmedoids_medoids)\n",
        "\n",
        "    # Fuzzy C-means\n",
        "    fuzzy_membership, fuzzy_centroids = fuzzy_c_means(data, k=3)\n",
        "    print(\"Fuzzy C-means Centroids:\\n\", fuzzy_centroids)"
      ]
    }
  ]
}