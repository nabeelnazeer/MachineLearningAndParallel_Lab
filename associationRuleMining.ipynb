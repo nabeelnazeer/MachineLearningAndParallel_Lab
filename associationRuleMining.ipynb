{
  "nbformat": 4,
  "nbformat_minor": 0,
  "metadata": {
    "colab": {
      "provenance": [],
      "authorship_tag": "ABX9TyOyh57RHvunLO8+Va8aSUrB",
      "include_colab_link": true
    },
    "kernelspec": {
      "name": "python3",
      "display_name": "Python 3"
    },
    "language_info": {
      "name": "python"
    }
  },
  "cells": [
    {
      "cell_type": "markdown",
      "metadata": {
        "id": "view-in-github",
        "colab_type": "text"
      },
      "source": [
        "<a href=\"https://colab.research.google.com/github/nabeelnazeer/MachineLearningAndParallel_Lab/blob/main/associationRuleMining.ipynb\" target=\"_parent\"><img src=\"https://colab.research.google.com/assets/colab-badge.svg\" alt=\"Open In Colab\"/></a>"
      ]
    },
    {
      "cell_type": "code",
      "source": [
        "# Sample custom transaction dataset\n",
        "transactions = [\n",
        "    ['milk', 'bread', 'eggs'],\n",
        "    ['milk', 'diapers', 'beer', 'bread'],\n",
        "    ['milk', 'diapers', 'beer', 'cola'],\n",
        "    ['bread', 'butter'],\n",
        "    ['milk', 'bread', 'butter', 'eggs'],\n",
        "    ['beer', 'diapers'],\n",
        "    ['cola', 'chips', 'chocolate'],\n",
        "    ['bread', 'milk'],\n",
        "    ['diapers', 'eggs', 'milk'],\n",
        "    ['bread', 'chips', 'salsa'],\n",
        "]\n"
      ],
      "metadata": {
        "id": "b7B-7qovnqBd"
      },
      "execution_count": 9,
      "outputs": []
    },
    {
      "cell_type": "code",
      "source": [
        "import pandas as pd\n",
        "from mlxtend.preprocessing import TransactionEncoder\n",
        "from mlxtend.frequent_patterns import apriori, association_rules\n",
        "\n",
        "# 1. One-hot encode the transactions\n",
        "te = TransactionEncoder()\n",
        "te_array = te.fit(transactions).transform(transactions)\n",
        "df = pd.DataFrame(te_array, columns=te.columns_)\n",
        "\n",
        "# 2. Generate frequent itemsets with Apriori\n",
        "frequent_itemsets = apriori(df, min_support=0.2, use_colnames=True)\n",
        "\n",
        "# 3. Generate association rules from the frequent itemsets\n",
        "rules = association_rules(frequent_itemsets, metric='confidence', min_threshold=0.6)\n",
        "\n",
        "# 4. Filter rules with high lift\n",
        "strong_rules = rules[(rules['confidence'] >= 0.6) & (rules['lift'] > 1)]\n",
        "\n",
        "# Output results\n",
        "print(\"📋 Frequent Itemsets:\")\n",
        "print(frequent_itemsets)\n",
        "\n",
        "print(\"\\n📈 Association Rules:\")\n",
        "print(rules[['antecedents', 'consequents', 'support', 'confidence', 'lift']])\n",
        "\n",
        "print(\"\\n🌟 Strong Rules (Confidence ≥ 0.6 and Lift > 1):\")\n",
        "print(strong_rules[['antecedents', 'consequents', 'support', 'confidence', 'lift']])\n"
      ],
      "metadata": {
        "colab": {
          "base_uri": "https://localhost:8080/"
        },
        "id": "EGD-S_8ynq-H",
        "outputId": "19199378-3c75-4c65-d523-9dfffe95277a"
      },
      "execution_count": 10,
      "outputs": [
        {
          "output_type": "stream",
          "name": "stdout",
          "text": [
            "📋 Frequent Itemsets:\n",
            "    support               itemsets\n",
            "0       0.3                 (beer)\n",
            "1       0.6                (bread)\n",
            "2       0.2               (butter)\n",
            "3       0.2                (chips)\n",
            "4       0.2                 (cola)\n",
            "5       0.4              (diapers)\n",
            "6       0.3                 (eggs)\n",
            "7       0.6                 (milk)\n",
            "8       0.3        (diapers, beer)\n",
            "9       0.2           (milk, beer)\n",
            "10      0.2        (bread, butter)\n",
            "11      0.2          (eggs, bread)\n",
            "12      0.4          (milk, bread)\n",
            "13      0.3        (milk, diapers)\n",
            "14      0.3           (milk, eggs)\n",
            "15      0.2  (milk, diapers, beer)\n",
            "16      0.2    (milk, eggs, bread)\n",
            "\n",
            "📈 Association Rules:\n",
            "        antecedents      consequents  support  confidence      lift\n",
            "0         (diapers)           (beer)      0.3    0.750000  2.500000\n",
            "1            (beer)        (diapers)      0.3    1.000000  2.500000\n",
            "2            (beer)           (milk)      0.2    0.666667  1.111111\n",
            "3          (butter)          (bread)      0.2    1.000000  1.666667\n",
            "4            (eggs)          (bread)      0.2    0.666667  1.111111\n",
            "5            (milk)          (bread)      0.4    0.666667  1.111111\n",
            "6           (bread)           (milk)      0.4    0.666667  1.111111\n",
            "7         (diapers)           (milk)      0.3    0.750000  1.250000\n",
            "8            (eggs)           (milk)      0.3    1.000000  1.666667\n",
            "9   (milk, diapers)           (beer)      0.2    0.666667  2.222222\n",
            "10     (milk, beer)        (diapers)      0.2    1.000000  2.500000\n",
            "11  (diapers, beer)           (milk)      0.2    0.666667  1.111111\n",
            "12           (beer)  (milk, diapers)      0.2    0.666667  2.222222\n",
            "13     (milk, eggs)          (bread)      0.2    0.666667  1.111111\n",
            "14    (eggs, bread)           (milk)      0.2    1.000000  1.666667\n",
            "15           (eggs)    (milk, bread)      0.2    0.666667  1.666667\n",
            "\n",
            "🌟 Strong Rules (Confidence ≥ 0.6 and Lift > 1):\n",
            "        antecedents      consequents  support  confidence      lift\n",
            "0         (diapers)           (beer)      0.3    0.750000  2.500000\n",
            "1            (beer)        (diapers)      0.3    1.000000  2.500000\n",
            "2            (beer)           (milk)      0.2    0.666667  1.111111\n",
            "3          (butter)          (bread)      0.2    1.000000  1.666667\n",
            "4            (eggs)          (bread)      0.2    0.666667  1.111111\n",
            "5            (milk)          (bread)      0.4    0.666667  1.111111\n",
            "6           (bread)           (milk)      0.4    0.666667  1.111111\n",
            "7         (diapers)           (milk)      0.3    0.750000  1.250000\n",
            "8            (eggs)           (milk)      0.3    1.000000  1.666667\n",
            "9   (milk, diapers)           (beer)      0.2    0.666667  2.222222\n",
            "10     (milk, beer)        (diapers)      0.2    1.000000  2.500000\n",
            "11  (diapers, beer)           (milk)      0.2    0.666667  1.111111\n",
            "12           (beer)  (milk, diapers)      0.2    0.666667  2.222222\n",
            "13     (milk, eggs)          (bread)      0.2    0.666667  1.111111\n",
            "14    (eggs, bread)           (milk)      0.2    1.000000  1.666667\n",
            "15           (eggs)    (milk, bread)      0.2    0.666667  1.666667\n"
          ]
        }
      ]
    },
    {
      "cell_type": "code",
      "source": [
        "from collections import defaultdict\n",
        "from itertools import combinations\n",
        "\n",
        "# Custom dataset\n",
        "transactions = [\n",
        "    ['milk', 'bread', 'eggs'],\n",
        "    ['milk', 'diapers', 'beer', 'bread'],\n",
        "    ['milk', 'diapers', 'beer', 'cola'],\n",
        "    ['bread', 'butter'],\n",
        "    ['milk', 'bread', 'butter', 'eggs'],\n",
        "    ['beer', 'diapers'],\n",
        "    ['cola', 'chips', 'chocolate'],\n",
        "    ['bread', 'milk'],\n",
        "    ['diapers', 'eggs', 'milk'],\n",
        "    ['bread', 'chips', 'salsa'],\n",
        "]\n",
        "\n",
        "def generate_itemsets(transactions, itemset_size):\n",
        "    itemsets = defaultdict(int)\n",
        "    for transaction in transactions:\n",
        "        for itemset in combinations(sorted(set(transaction)), itemset_size):\n",
        "            itemsets[itemset] += 1\n",
        "    return itemsets\n",
        "\n",
        "# Generate itemsets of size 1\n",
        "itemsets_1 = generate_itemsets(transactions, 1)\n",
        "\n",
        "# Calculate support for each\n",
        "total_transactions = len(transactions)\n",
        "support_1 = {k: v / total_transactions for k, v in itemsets_1.items()}\n",
        "\n",
        "print(\"📦 Itemsets of size 1 with support:\")\n",
        "for item, support in support_1.items():\n",
        "    print(f\"{item}: {support:.2f}\")\n"
      ],
      "metadata": {
        "colab": {
          "base_uri": "https://localhost:8080/"
        },
        "id": "yqk4F7iJnurG",
        "outputId": "30c50235-b99a-44e0-a9d3-3cb42cf6f4cc"
      },
      "execution_count": 11,
      "outputs": [
        {
          "output_type": "stream",
          "name": "stdout",
          "text": [
            "📦 Itemsets of size 1 with support:\n",
            "('bread',): 0.60\n",
            "('eggs',): 0.30\n",
            "('milk',): 0.60\n",
            "('beer',): 0.30\n",
            "('diapers',): 0.40\n",
            "('cola',): 0.20\n",
            "('butter',): 0.20\n",
            "('chips',): 0.20\n",
            "('chocolate',): 0.10\n",
            "('salsa',): 0.10\n"
          ]
        }
      ]
    },
    {
      "cell_type": "code",
      "source": [
        "import pandas as pd\n",
        "from mlxtend.preprocessing import TransactionEncoder\n",
        "from mlxtend.frequent_patterns import apriori\n",
        "\n",
        "# One-hot encode the dataset\n",
        "te = TransactionEncoder()\n",
        "te_data = te.fit_transform(transactions)\n",
        "df = pd.DataFrame(te_data, columns=te.columns_)\n",
        "\n",
        "# Set a minimum support threshold (e.g., 0.2)\n",
        "min_support = 0.2\n",
        "\n",
        "# Apply Apriori\n",
        "frequent_itemsets = apriori(df, min_support=min_support, use_colnames=True)\n",
        "\n",
        "print(\"\\n✅ Frequent Itemsets (support ≥ 0.2):\")\n",
        "print(frequent_itemsets)\n"
      ],
      "metadata": {
        "colab": {
          "base_uri": "https://localhost:8080/"
        },
        "id": "vfOpsIUGoBva",
        "outputId": "0feffbdb-05e6-437e-d27c-1b3cdab7833f"
      },
      "execution_count": 12,
      "outputs": [
        {
          "output_type": "stream",
          "name": "stdout",
          "text": [
            "\n",
            "✅ Frequent Itemsets (support ≥ 0.2):\n",
            "    support               itemsets\n",
            "0       0.3                 (beer)\n",
            "1       0.6                (bread)\n",
            "2       0.2               (butter)\n",
            "3       0.2                (chips)\n",
            "4       0.2                 (cola)\n",
            "5       0.4              (diapers)\n",
            "6       0.3                 (eggs)\n",
            "7       0.6                 (milk)\n",
            "8       0.3        (diapers, beer)\n",
            "9       0.2           (milk, beer)\n",
            "10      0.2        (bread, butter)\n",
            "11      0.2          (eggs, bread)\n",
            "12      0.4          (milk, bread)\n",
            "13      0.3        (milk, diapers)\n",
            "14      0.3           (milk, eggs)\n",
            "15      0.2  (milk, diapers, beer)\n",
            "16      0.2    (milk, eggs, bread)\n"
          ]
        }
      ]
    },
    {
      "cell_type": "code",
      "source": [
        "from mlxtend.frequent_patterns import association_rules\n",
        "\n",
        "# Generate rules with minimum confidence threshold\n",
        "min_confidence = 0.6\n",
        "rules = association_rules(frequent_itemsets, metric='confidence', min_threshold=min_confidence)\n",
        "\n",
        "# Display rules\n",
        "print(\"\\n📈 Association Rules:\")\n",
        "print(rules[['antecedents', 'consequents', 'support', 'confidence', 'lift']])\n"
      ],
      "metadata": {
        "colab": {
          "base_uri": "https://localhost:8080/"
        },
        "id": "ZS76cPNnoE7k",
        "outputId": "30a2182c-f727-4396-a8d4-490935834ce5"
      },
      "execution_count": 13,
      "outputs": [
        {
          "output_type": "stream",
          "name": "stdout",
          "text": [
            "\n",
            "📈 Association Rules:\n",
            "        antecedents      consequents  support  confidence      lift\n",
            "0         (diapers)           (beer)      0.3    0.750000  2.500000\n",
            "1            (beer)        (diapers)      0.3    1.000000  2.500000\n",
            "2            (beer)           (milk)      0.2    0.666667  1.111111\n",
            "3          (butter)          (bread)      0.2    1.000000  1.666667\n",
            "4            (eggs)          (bread)      0.2    0.666667  1.111111\n",
            "5            (milk)          (bread)      0.4    0.666667  1.111111\n",
            "6           (bread)           (milk)      0.4    0.666667  1.111111\n",
            "7         (diapers)           (milk)      0.3    0.750000  1.250000\n",
            "8            (eggs)           (milk)      0.3    1.000000  1.666667\n",
            "9   (milk, diapers)           (beer)      0.2    0.666667  2.222222\n",
            "10     (milk, beer)        (diapers)      0.2    1.000000  2.500000\n",
            "11  (diapers, beer)           (milk)      0.2    0.666667  1.111111\n",
            "12           (beer)  (milk, diapers)      0.2    0.666667  2.222222\n",
            "13     (milk, eggs)          (bread)      0.2    0.666667  1.111111\n",
            "14    (eggs, bread)           (milk)      0.2    1.000000  1.666667\n",
            "15           (eggs)    (milk, bread)      0.2    0.666667  1.666667\n"
          ]
        }
      ]
    },
    {
      "cell_type": "code",
      "source": [
        "# Filter high-confidence, high-lift rules\n",
        "strong_rules = rules[(rules['confidence'] >= 0.6) & (rules['lift'] > 1)]\n",
        "\n",
        "print(\"\\n🌟 Strong Association Rules (confidence ≥ 0.6, lift > 1):\")\n",
        "print(strong_rules[['antecedents', 'consequents', 'support', 'confidence', 'lift']])\n"
      ],
      "metadata": {
        "colab": {
          "base_uri": "https://localhost:8080/"
        },
        "id": "9s8iun-voIeq",
        "outputId": "6a46f9bd-81b1-4ea5-b81a-9df5e145bda4"
      },
      "execution_count": 14,
      "outputs": [
        {
          "output_type": "stream",
          "name": "stdout",
          "text": [
            "\n",
            "🌟 Strong Association Rules (confidence ≥ 0.6, lift > 1):\n",
            "        antecedents      consequents  support  confidence      lift\n",
            "0         (diapers)           (beer)      0.3    0.750000  2.500000\n",
            "1            (beer)        (diapers)      0.3    1.000000  2.500000\n",
            "2            (beer)           (milk)      0.2    0.666667  1.111111\n",
            "3          (butter)          (bread)      0.2    1.000000  1.666667\n",
            "4            (eggs)          (bread)      0.2    0.666667  1.111111\n",
            "5            (milk)          (bread)      0.4    0.666667  1.111111\n",
            "6           (bread)           (milk)      0.4    0.666667  1.111111\n",
            "7         (diapers)           (milk)      0.3    0.750000  1.250000\n",
            "8            (eggs)           (milk)      0.3    1.000000  1.666667\n",
            "9   (milk, diapers)           (beer)      0.2    0.666667  2.222222\n",
            "10     (milk, beer)        (diapers)      0.2    1.000000  2.500000\n",
            "11  (diapers, beer)           (milk)      0.2    0.666667  1.111111\n",
            "12           (beer)  (milk, diapers)      0.2    0.666667  2.222222\n",
            "13     (milk, eggs)          (bread)      0.2    0.666667  1.111111\n",
            "14    (eggs, bread)           (milk)      0.2    1.000000  1.666667\n",
            "15           (eggs)    (milk, bread)      0.2    0.666667  1.666667\n"
          ]
        }
      ]
    }
  ]
}